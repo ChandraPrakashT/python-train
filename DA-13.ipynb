{
 "cells": [
  {
   "cell_type": "code",
   "execution_count": 1,
   "id": "c408245a",
   "metadata": {},
   "outputs": [],
   "source": [
    "#imports\n",
    "import boto3\n",
    "import pyodbc\n",
    "import pandas as pd\n",
    "import redshift_connector\n",
    "import psycopg2\n",
    "from google.cloud import bigquery\n",
    "from google.oauth2 import service_account\n",
    "import pandas_gbq\n",
    "import os\n",
    "import json\n",
    "from functools import reduce"
   ]
  },
  {
   "cell_type": "code",
   "execution_count": 2,
   "id": "1be57e06",
   "metadata": {},
   "outputs": [],
   "source": [
    "with open('aws.json') as json_file:\n",
    "    cr = json.load(json_file)\n",
    "\n",
    "s3creds = cr['data_sources']['s3']['creds']\n",
    "redcreds = cr['data_sources']['redshift']['creds']"
   ]
  },
  {
   "cell_type": "code",
   "execution_count": 3,
   "id": "5df3e873",
   "metadata": {},
   "outputs": [],
   "source": [
    "#s3 connect \n",
    "s3 = boto3.resource(\n",
    "    service_name='s3',\n",
    "    region_name=s3creds['region_name'],\n",
    "    aws_access_key_id=s3creds['aws_access_key_id'],\n",
    "    aws_secret_access_key=s3creds['aws_secret_access_key']\n",
    ")\n",
    "\n",
    "tw_name = 'Tournament_Won.csv'\n",
    "tl_name = 'Tournament_Lost.csv'\n",
    "\n",
    "#s3 get data\n",
    "bucket_name = s3creds['bucket']\n",
    "tw_file_name = s3creds['folder_path']+tw_name\n",
    "tl_file_name = s3creds['folder_path']+tl_name\n",
    "bucket = s3.Bucket(bucket_name)\n",
    "tw_obj = bucket.Object(key=tw_file_name)\n",
    "tl_obj = bucket.Object(key=tl_file_name)\n",
    "tw_response = tw_obj.get()\n",
    "tl_response = tl_obj.get()\n",
    "twTable = pd.read_csv(tw_response['Body'],header=3)\n",
    "tlTable = pd.read_csv(tl_response['Body'],header=3)\n",
    "#twTable.info()\n",
    "#tlTable.info()"
   ]
  },
  {
   "cell_type": "code",
   "execution_count": 4,
   "id": "aa1fdb1b",
   "metadata": {},
   "outputs": [],
   "source": [
    "#GCP connection\n",
    "KEYPATH = \"gcp.json\"\n",
    "CREDS = service_account.Credentials.from_service_account_file(KEYPATH)\n",
    "client = bigquery.Client(credentials=CREDS, project=CREDS.project_id)\n",
    "\n",
    "\n",
    "q1 = \"\"\"\n",
    "SELECT * FROM training_dataset.tournament\n",
    "\"\"\"\n",
    "#q2 = \"\"\"\n",
    "#SELECT * FROM training_dataset.tournament_winner\n",
    "#\"\"\"\n",
    "\n",
    "view1 = client.query(q1)\n",
    "#view2 = client.query(q2)\n",
    "view1.result()\n",
    "tournament = view1.result().to_dataframe()\n",
    "#tournament_winner = view2.result().to_dataframe()\n",
    "#tournament.info()\n",
    "#tournament_winner.info()"
   ]
  },
  {
   "cell_type": "code",
   "execution_count": 5,
   "id": "894cabd8",
   "metadata": {},
   "outputs": [
    {
     "data": {
      "text/plain": [
       "array(['ATP250', 'Masters 1000', 'Masters', 'International', 'Grand Slam',\n",
       "       'ATP500', 'International Gold', 'Masters Cup'], dtype=object)"
      ]
     },
     "execution_count": 5,
     "metadata": {},
     "output_type": "execute_result"
    }
   ],
   "source": [
    "tournament['Series'].unique()"
   ]
  },
  {
   "cell_type": "code",
   "execution_count": 6,
   "id": "bce5c86f",
   "metadata": {},
   "outputs": [],
   "source": [
    "intlTournamentDf = tournament.query(\"Series == 'International'\")"
   ]
  },
  {
   "cell_type": "code",
   "execution_count": 7,
   "id": "8519c4b3",
   "metadata": {},
   "outputs": [
    {
     "data": {
      "text/plain": [
       "array(['International'], dtype=object)"
      ]
     },
     "execution_count": 7,
     "metadata": {},
     "output_type": "execute_result"
    }
   ],
   "source": [
    "intlTournamentDf['Series'].unique()"
   ]
  },
  {
   "cell_type": "code",
   "execution_count": 8,
   "id": "7ae59622",
   "metadata": {},
   "outputs": [],
   "source": [
    "dataframes = [intlTournamentDf,twTable]"
   ]
  },
  {
   "cell_type": "code",
   "execution_count": 10,
   "id": "73a0a746",
   "metadata": {},
   "outputs": [],
   "source": [
    "merged = reduce(lambda left,right: pd.merge(left,right,on='row_order'),dataframes)"
   ]
  },
  {
   "cell_type": "code",
   "execution_count": 12,
   "id": "75e3f7b1",
   "metadata": {},
   "outputs": [],
   "source": [
    "stdCols = ['row_order','Winner','Series']"
   ]
  },
  {
   "cell_type": "code",
   "execution_count": 22,
   "id": "68000ba6",
   "metadata": {},
   "outputs": [],
   "source": [
    "winnersList = merged['Winner'].unique()\n",
    "mergedStd = merged[stdCols]\n",
    "uploadData = mergedStd"
   ]
  },
  {
   "cell_type": "code",
   "execution_count": 24,
   "id": "401eb61b",
   "metadata": {},
   "outputs": [],
   "source": [
    "pandas_gbq.to_gbq(uploadData, destination_table = 'training_dataset.DA-13', project_id=CREDS.project_id, credentials = CREDS)"
   ]
  },
  {
   "cell_type": "code",
   "execution_count": null,
   "id": "23a53997",
   "metadata": {},
   "outputs": [],
   "source": []
  }
 ],
 "metadata": {
  "kernelspec": {
   "display_name": "Python 3 (ipykernel)",
   "language": "python",
   "name": "python3"
  },
  "language_info": {
   "codemirror_mode": {
    "name": "ipython",
    "version": 3
   },
   "file_extension": ".py",
   "mimetype": "text/x-python",
   "name": "python",
   "nbconvert_exporter": "python",
   "pygments_lexer": "ipython3",
   "version": "3.9.7"
  }
 },
 "nbformat": 4,
 "nbformat_minor": 5
}
