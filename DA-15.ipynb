{
 "cells": [
  {
   "cell_type": "code",
   "execution_count": 1,
   "id": "f62fa447",
   "metadata": {},
   "outputs": [],
   "source": [
    "#imports\n",
    "import boto3\n",
    "import pyodbc\n",
    "import pandas as pd\n",
    "import numpy as np\n",
    "import redshift_connector\n",
    "import psycopg2\n",
    "from google.cloud import bigquery\n",
    "from google.oauth2 import service_account\n",
    "import pandas_gbq\n",
    "import os\n",
    "import json\n",
    "from functools import reduce\n",
    "from datetime import date\n",
    "from dateutil.relativedelta import relativedelta"
   ]
  },
  {
   "cell_type": "code",
   "execution_count": 2,
   "id": "033f4a7b",
   "metadata": {},
   "outputs": [],
   "source": [
    "with open('aws.json') as json_file:\n",
    "    cr = json.load(json_file)\n",
    "\n",
    "s3creds = cr['data_sources']['s3']['creds']\n",
    "redcreds = cr['data_sources']['redshift']['creds']"
   ]
  },
  {
   "cell_type": "code",
   "execution_count": 3,
   "id": "cd2a1b47",
   "metadata": {},
   "outputs": [],
   "source": [
    "KEYPATH = \"gcp.json\"\n",
    "CREDS = service_account.Credentials.from_service_account_file(KEYPATH)\n",
    "client = bigquery.Client(credentials=CREDS, project=CREDS.project_id)\n",
    "\n",
    "\n",
    "q1 = \"\"\"\n",
    "SELECT * FROM training_dataset.tournament\n",
    "\"\"\"\n",
    "\n",
    "view1 = client.query(q1)\n",
    "\n",
    "tournament = view1.result().to_dataframe()"
   ]
  },
  {
   "cell_type": "code",
   "execution_count": 4,
   "id": "6116bf26",
   "metadata": {},
   "outputs": [],
   "source": [
    "q2 = \"\"\"\n",
    "SELECT * FROM training_dataset.tournament\n",
    "JOIN training_dataset.tournament_winner ON tournament.row_order = tournament_winner.row_order\n",
    "WHERE pl1_flag in ('CAN','EGY','FRA')\n",
    "\"\"\"\n",
    "\n",
    "df = client.query(q2).result().to_dataframe()\n"
   ]
  },
  {
   "cell_type": "code",
   "execution_count": 5,
   "id": "90392b3f",
   "metadata": {},
   "outputs": [],
   "source": [
    "#s3 connect \n",
    "s3 = boto3.resource(\n",
    "    service_name='s3',\n",
    "    region_name=s3creds['region_name'],\n",
    "    aws_access_key_id=s3creds['aws_access_key_id'],\n",
    "    aws_secret_access_key=s3creds['aws_secret_access_key']\n",
    ")\n",
    "\n",
    "tw_name = 'Tournament_Won.csv'\n",
    "tl_name = 'Tournament_Lost.csv'\n",
    "\n",
    "#s3 get data\n",
    "bucket_name = s3creds['bucket']\n",
    "tw_file_name = s3creds['folder_path']+tw_name\n",
    "tl_file_name = s3creds['folder_path']+tl_name\n",
    "bucket = s3.Bucket(bucket_name)\n",
    "tw_obj = bucket.Object(key=tw_file_name)\n",
    "tl_obj = bucket.Object(key=tl_file_name)\n",
    "tw_response = tw_obj.get()\n",
    "tl_response = tl_obj.get()\n",
    "twTable = pd.read_csv(tw_response['Body'],header=3)\n",
    "tlTable = pd.read_csv(tl_response['Body'],header=3)"
   ]
  },
  {
   "cell_type": "code",
   "execution_count": 6,
   "id": "c1724135",
   "metadata": {},
   "outputs": [],
   "source": [
    "RH = df.query('pl1_hand == \"Right-Handed\" ')"
   ]
  },
  {
   "cell_type": "code",
   "execution_count": 7,
   "id": "f165cd37",
   "metadata": {},
   "outputs": [],
   "source": [
    "RHWinner = RH.merge(twTable, on='row_order')"
   ]
  },
  {
   "cell_type": "code",
   "execution_count": 8,
   "id": "3d351776",
   "metadata": {},
   "outputs": [],
   "source": [
    "RHWinner50 = RHWinner.query('WPts > 50')"
   ]
  },
  {
   "cell_type": "code",
   "execution_count": 9,
   "id": "7612b76b",
   "metadata": {},
   "outputs": [],
   "source": [
    "RHWinner50Loser = RHWinner50.merge(tlTable,on='row_order')"
   ]
  },
  {
   "cell_type": "code",
   "execution_count": 10,
   "id": "7aad9a2c",
   "metadata": {},
   "outputs": [],
   "source": [
    "RHWinner50Loser10 = RHWinner50Loser.query('AvgL < 10')"
   ]
  },
  {
   "cell_type": "code",
   "execution_count": 11,
   "id": "41cc03bf",
   "metadata": {},
   "outputs": [],
   "source": [
    "tdL = date.today() + relativedelta(months=-74)\n",
    "tdH = date.today() + relativedelta(months=-50)\n",
    "dateAfter = pd.to_datetime(tdL)\n",
    "dateBefore = pd.to_datetime(tdH)"
   ]
  },
  {
   "cell_type": "code",
   "execution_count": 18,
   "id": "c16854f3",
   "metadata": {},
   "outputs": [],
   "source": [
    "date1 = RHWinner50Loser10[pd.to_datetime(RHWinner50Loser10['tournament_date'])>dateAfter]"
   ]
  },
  {
   "cell_type": "code",
   "execution_count": 20,
   "id": "fd2860c5",
   "metadata": {},
   "outputs": [],
   "source": [
    "date2 = date1[pd.to_datetime(date1['tournament_date'])<dateBefore]"
   ]
  },
  {
   "cell_type": "code",
   "execution_count": 24,
   "id": "30f0696c",
   "metadata": {},
   "outputs": [],
   "source": [
    "stdcol = ['row_order','ATP_x','tournament_date','Winner','pl1_hand','pl1_flag','AvgL']"
   ]
  },
  {
   "cell_type": "code",
   "execution_count": 26,
   "id": "c55cea77",
   "metadata": {},
   "outputs": [],
   "source": [
    "uploadData = date2[stdcol]"
   ]
  },
  {
   "cell_type": "code",
   "execution_count": 27,
   "id": "2ee3e0d0",
   "metadata": {},
   "outputs": [],
   "source": [
    "pandas_gbq.to_gbq(uploadData, destination_table = 'training_dataset.DA-15', project_id=CREDS.project_id, credentials = CREDS,if_exists='replace')"
   ]
  },
  {
   "cell_type": "code",
   "execution_count": null,
   "id": "32aaf3aa",
   "metadata": {},
   "outputs": [],
   "source": []
  }
 ],
 "metadata": {
  "kernelspec": {
   "display_name": "Python 3 (ipykernel)",
   "language": "python",
   "name": "python3"
  },
  "language_info": {
   "codemirror_mode": {
    "name": "ipython",
    "version": 3
   },
   "file_extension": ".py",
   "mimetype": "text/x-python",
   "name": "python",
   "nbconvert_exporter": "python",
   "pygments_lexer": "ipython3",
   "version": "3.9.7"
  }
 },
 "nbformat": 4,
 "nbformat_minor": 5
}
