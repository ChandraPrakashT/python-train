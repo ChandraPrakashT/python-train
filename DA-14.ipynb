{
 "cells": [
  {
   "cell_type": "code",
   "execution_count": 1,
   "id": "73c76ad2",
   "metadata": {},
   "outputs": [],
   "source": [
    "#imports\n",
    "import boto3\n",
    "import pyodbc\n",
    "import pandas as pd\n",
    "import redshift_connector\n",
    "import psycopg2\n",
    "from google.cloud import bigquery\n",
    "from google.oauth2 import service_account\n",
    "import pandas_gbq\n",
    "import os\n",
    "import json\n",
    "from functools import reduce"
   ]
  },
  {
   "cell_type": "code",
   "execution_count": 2,
   "id": "30daee2f",
   "metadata": {},
   "outputs": [],
   "source": [
    "with open('aws.json') as json_file:\n",
    "    cr = json.load(json_file)\n",
    "\n",
    "s3creds = cr['data_sources']['s3']['creds']\n",
    "redcreds = cr['data_sources']['redshift']['creds']"
   ]
  },
  {
   "cell_type": "code",
   "execution_count": 3,
   "id": "47228435",
   "metadata": {},
   "outputs": [],
   "source": [
    "KEYPATH = \"gcp.json\"\n",
    "CREDS = service_account.Credentials.from_service_account_file(KEYPATH)\n",
    "client = bigquery.Client(credentials=CREDS, project=CREDS.project_id)\n",
    "\n",
    "\n",
    "q1 = \"\"\"\n",
    "SELECT * FROM training_dataset.tournament\n",
    "JOIN training_dataset.tournament_winner ON tournament_winner.row_order = tournament.row_order\n",
    "WHERE tournament.Round = '4th Round'\n",
    "\"\"\"\n",
    "\n",
    "view1 = client.query(q1)\n",
    "\n",
    "tournamentR4 = view1.result().to_dataframe()"
   ]
  },
  {
   "cell_type": "code",
   "execution_count": 4,
   "id": "92af715c",
   "metadata": {},
   "outputs": [],
   "source": [
    "#s3 connect \n",
    "s3 = boto3.resource(\n",
    "    service_name='s3',\n",
    "    region_name=s3creds['region_name'],\n",
    "    aws_access_key_id=s3creds['aws_access_key_id'],\n",
    "    aws_secret_access_key=s3creds['aws_secret_access_key']\n",
    ")\n",
    "\n",
    "tw_name = 'Tournament_Won.csv'\n",
    "tl_name = 'Tournament_Lost.csv'\n",
    "\n",
    "#s3 get data\n",
    "bucket_name = s3creds['bucket']\n",
    "tw_file_name = s3creds['folder_path']+tw_name\n",
    "tl_file_name = s3creds['folder_path']+tl_name\n",
    "bucket = s3.Bucket(bucket_name)\n",
    "tw_obj = bucket.Object(key=tw_file_name)\n",
    "tl_obj = bucket.Object(key=tl_file_name)\n",
    "tw_response = tw_obj.get()\n",
    "tl_response = tl_obj.get()\n",
    "twTable = pd.read_csv(tw_response['Body'],header=3)\n",
    "tlTable = pd.read_csv(tl_response['Body'],header=3)"
   ]
  },
  {
   "cell_type": "code",
   "execution_count": 5,
   "id": "5ff081af",
   "metadata": {},
   "outputs": [
    {
     "name": "stdout",
     "output_type": "stream",
     "text": [
      "<redshift_connector.core.Connection object at 0x000002B1DB1CBEB0>\n"
     ]
    }
   ],
   "source": [
    "#connecting to redshift using redshift connector\n",
    "\n",
    "HOST = redcreds['host']\n",
    "DATABASE = redcreds['database']\n",
    "USER = redcreds['username']\n",
    "PASSWORD = redcreds['password']\n",
    "\n",
    "conn = redshift_connector.connect(\n",
    "     host=HOST,\n",
    "     database=DATABASE,\n",
    "     user=USER,\n",
    "     password=PASSWORD\n",
    "  )\n",
    "\n",
    "print(conn)\n",
    "cursor = conn.cursor()\n",
    "\n",
    "query = \"select * from tournament_loser\"\n",
    "cursor.execute(query)\n",
    "tournament_loser : pd.DataFrame = cursor.fetch_dataframe()"
   ]
  },
  {
   "cell_type": "code",
   "execution_count": 6,
   "id": "f8547cba",
   "metadata": {},
   "outputs": [],
   "source": [
    "dataFrames = [tournamentR4,twTable,tlTable,tournament_loser]"
   ]
  },
  {
   "cell_type": "code",
   "execution_count": 7,
   "id": "f56412e2",
   "metadata": {},
   "outputs": [],
   "source": [
    "merged = reduce(lambda left,right: pd.merge(left,right,on='row_order'),dataFrames)"
   ]
  },
  {
   "cell_type": "code",
   "execution_count": 10,
   "id": "9f2880ca",
   "metadata": {},
   "outputs": [
    {
     "data": {
      "text/html": [
       "<div>\n",
       "<style scoped>\n",
       "    .dataframe tbody tr th:only-of-type {\n",
       "        vertical-align: middle;\n",
       "    }\n",
       "\n",
       "    .dataframe tbody tr th {\n",
       "        vertical-align: top;\n",
       "    }\n",
       "\n",
       "    .dataframe thead th {\n",
       "        text-align: right;\n",
       "    }\n",
       "</style>\n",
       "<table border=\"1\" class=\"dataframe\">\n",
       "  <thead>\n",
       "    <tr style=\"text-align: right;\">\n",
       "      <th></th>\n",
       "      <th>row_order</th>\n",
       "      <th>Round</th>\n",
       "      <th>Winner</th>\n",
       "      <th>Loser</th>\n",
       "      <th>pl1_year_pro</th>\n",
       "      <th>pl2_year_pro</th>\n",
       "    </tr>\n",
       "  </thead>\n",
       "  <tbody>\n",
       "    <tr>\n",
       "      <th>0</th>\n",
       "      <td>12343</td>\n",
       "      <td>4th Round</td>\n",
       "      <td>Schwartzman D.</td>\n",
       "      <td>Sonego L.</td>\n",
       "      <td>2010</td>\n",
       "      <td>2013.0</td>\n",
       "    </tr>\n",
       "    <tr>\n",
       "      <th>1</th>\n",
       "      <td>16698</td>\n",
       "      <td>4th Round</td>\n",
       "      <td>Schwartzman D.</td>\n",
       "      <td>Struff J.L.</td>\n",
       "      <td>2010</td>\n",
       "      <td>2009.0</td>\n",
       "    </tr>\n",
       "    <tr>\n",
       "      <th>2</th>\n",
       "      <td>18973</td>\n",
       "      <td>4th Round</td>\n",
       "      <td>Schwartzman D.</td>\n",
       "      <td>Anderson K.</td>\n",
       "      <td>2010</td>\n",
       "      <td>2007.0</td>\n",
       "    </tr>\n",
       "    <tr>\n",
       "      <th>3</th>\n",
       "      <td>29783</td>\n",
       "      <td>4th Round</td>\n",
       "      <td>Schwartzman D.</td>\n",
       "      <td>Zverev A.</td>\n",
       "      <td>2010</td>\n",
       "      <td>2013.0</td>\n",
       "    </tr>\n",
       "    <tr>\n",
       "      <th>4</th>\n",
       "      <td>30629</td>\n",
       "      <td>4th Round</td>\n",
       "      <td>Schwartzman D.</td>\n",
       "      <td>Pouille L.</td>\n",
       "      <td>2010</td>\n",
       "      <td>2012.0</td>\n",
       "    </tr>\n",
       "    <tr>\n",
       "      <th>...</th>\n",
       "      <td>...</td>\n",
       "      <td>...</td>\n",
       "      <td>...</td>\n",
       "      <td>...</td>\n",
       "      <td>...</td>\n",
       "      <td>...</td>\n",
       "    </tr>\n",
       "    <tr>\n",
       "      <th>651</th>\n",
       "      <td>10846</td>\n",
       "      <td>4th Round</td>\n",
       "      <td>Isner J.</td>\n",
       "      <td>Cilic M.</td>\n",
       "      <td>2007</td>\n",
       "      <td>2005.0</td>\n",
       "    </tr>\n",
       "    <tr>\n",
       "      <th>652</th>\n",
       "      <td>11138</td>\n",
       "      <td>4th Round</td>\n",
       "      <td>Isner J.</td>\n",
       "      <td>Raonic M.</td>\n",
       "      <td>2007</td>\n",
       "      <td>2008.0</td>\n",
       "    </tr>\n",
       "    <tr>\n",
       "      <th>653</th>\n",
       "      <td>23281</td>\n",
       "      <td>4th Round</td>\n",
       "      <td>Isner J.</td>\n",
       "      <td>Tsitsipas S.</td>\n",
       "      <td>2007</td>\n",
       "      <td>2016.0</td>\n",
       "    </tr>\n",
       "    <tr>\n",
       "      <th>654</th>\n",
       "      <td>28660</td>\n",
       "      <td>4th Round</td>\n",
       "      <td>Isner J.</td>\n",
       "      <td>Simon G.</td>\n",
       "      <td>2007</td>\n",
       "      <td>2002.0</td>\n",
       "    </tr>\n",
       "    <tr>\n",
       "      <th>655</th>\n",
       "      <td>30503</td>\n",
       "      <td>4th Round</td>\n",
       "      <td>Isner J.</td>\n",
       "      <td>Raonic M.</td>\n",
       "      <td>2007</td>\n",
       "      <td>2008.0</td>\n",
       "    </tr>\n",
       "  </tbody>\n",
       "</table>\n",
       "<p>656 rows × 6 columns</p>\n",
       "</div>"
      ],
      "text/plain": [
       "     row_order      Round          Winner         Loser  pl1_year_pro  \\\n",
       "0        12343  4th Round  Schwartzman D.     Sonego L.          2010   \n",
       "1        16698  4th Round  Schwartzman D.   Struff J.L.          2010   \n",
       "2        18973  4th Round  Schwartzman D.   Anderson K.          2010   \n",
       "3        29783  4th Round  Schwartzman D.     Zverev A.          2010   \n",
       "4        30629  4th Round  Schwartzman D.    Pouille L.          2010   \n",
       "..         ...        ...             ...           ...           ...   \n",
       "651      10846  4th Round        Isner J.      Cilic M.          2007   \n",
       "652      11138  4th Round        Isner J.     Raonic M.          2007   \n",
       "653      23281  4th Round        Isner J.  Tsitsipas S.          2007   \n",
       "654      28660  4th Round        Isner J.      Simon G.          2007   \n",
       "655      30503  4th Round        Isner J.     Raonic M.          2007   \n",
       "\n",
       "     pl2_year_pro  \n",
       "0          2013.0  \n",
       "1          2009.0  \n",
       "2          2007.0  \n",
       "3          2013.0  \n",
       "4          2012.0  \n",
       "..            ...  \n",
       "651        2005.0  \n",
       "652        2008.0  \n",
       "653        2016.0  \n",
       "654        2002.0  \n",
       "655        2008.0  \n",
       "\n",
       "[656 rows x 6 columns]"
      ]
     },
     "execution_count": 10,
     "metadata": {},
     "output_type": "execute_result"
    }
   ],
   "source": [
    "stdCols = ['row_order','Round','Winner','Loser','pl1_year_pro','pl2_year_pro']\n",
    "mergedStd = merged[stdCols]\n",
    "mergedStd"
   ]
  },
  {
   "cell_type": "code",
   "execution_count": 23,
   "id": "214910c4",
   "metadata": {},
   "outputs": [
    {
     "name": "stdout",
     "output_type": "stream",
     "text": [
      "18\n"
     ]
    }
   ],
   "source": [
    "players = []\n",
    "for player in mergedStd[mergedStd.pl1_year_pro==2007]['Winner'].unique():\n",
    "    players.append(player)\n",
    "for player in mergedStd[mergedStd.pl2_year_pro==2007.0]['Loser'].unique():\n",
    "    players.append(player)\n",
    "print(len(players))"
   ]
  },
  {
   "cell_type": "code",
   "execution_count": 24,
   "id": "7dfc185b",
   "metadata": {},
   "outputs": [],
   "source": [
    "data = {'Players':players}\n",
    "uploadData = pd.DataFrame(data)"
   ]
  },
  {
   "cell_type": "code",
   "execution_count": 27,
   "id": "dd4aec2b",
   "metadata": {},
   "outputs": [],
   "source": [
    "pandas_gbq.to_gbq(uploadData, destination_table = 'training_dataset.DA-14', project_id=CREDS.project_id, credentials = CREDS,if_exists='replace')"
   ]
  },
  {
   "cell_type": "code",
   "execution_count": null,
   "id": "4e20a45f",
   "metadata": {},
   "outputs": [],
   "source": []
  }
 ],
 "metadata": {
  "kernelspec": {
   "display_name": "Python 3 (ipykernel)",
   "language": "python",
   "name": "python3"
  },
  "language_info": {
   "codemirror_mode": {
    "name": "ipython",
    "version": 3
   },
   "file_extension": ".py",
   "mimetype": "text/x-python",
   "name": "python",
   "nbconvert_exporter": "python",
   "pygments_lexer": "ipython3",
   "version": "3.9.7"
  }
 },
 "nbformat": 4,
 "nbformat_minor": 5
}
